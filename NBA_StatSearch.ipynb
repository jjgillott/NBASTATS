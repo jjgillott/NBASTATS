{
 "cells": [
  {
   "cell_type": "markdown",
   "metadata": {},
   "source": [
    "# NBA StatSearch\n",
    "\n",
    "## Background\n",
    "#### This function searches an NBA player's name, season, and stat in question. All data was scraped from Basketball-Reference.com.\n",
    "#### The program uses a panda dataframe, BeautifulSoup, and indexing."
   ]
  },
  {
   "cell_type": "markdown",
   "metadata": {},
   "source": [
    "## Code"
   ]
  },
  {
   "cell_type": "code",
   "execution_count": 1,
   "metadata": {},
   "outputs": [],
   "source": [
    "from urllib.request import urlopen\n",
    "from bs4 import BeautifulSoup\n",
    "import pandas as pd"
   ]
  },
  {
   "cell_type": "code",
   "execution_count": 2,
   "metadata": {},
   "outputs": [],
   "source": [
    "def player_stat_finder(player, season, stat, playoffs):\n",
    "    \n",
    "    try:\n",
    "        if playoffs is False: # First, checks for whether or not we want playoff stats or regular season\n",
    "            url = (\"https://www.basketball-reference.com/leagues/NBA_\"\n",
    "                   + str(season) + \"_per_game.html\")\n",
    "    \n",
    "        elif playoffs is True:\n",
    "            url = (\"https://www.basketball-reference.com/playoffs/NBA_\"\n",
    "                   + str(season) + \"_per_game.html\")\n",
    "    \n",
    "        html = urlopen(url)\n",
    "        soup = BeautifulSoup(html) # Makes BeautifulSoup object\n",
    "    \n",
    "        soup.find_all('tr', limit=2) # Checks tr tag from Basketball-Reference data page\n",
    "    \n",
    "        headers = ([th.get_text() for th in soup.find_all\n",
    "                    ('tr', limit=2)[0].find_all('th')])\n",
    "        headers = headers[1:] # Needs to find headers\n",
    "    \n",
    "        rows = soup.find_all('tr')[1:]\n",
    "        player_stats = ([[td.get_text() for td in \n",
    "                          rows[i].find_all('td')] for i in range(len(rows))])\n",
    "    \n",
    "        stats = pd.DataFrame(player_stats, columns=headers) # Pandas DataFrame\n",
    "    \n",
    "        ''' Basketball Reference adds a * next to any Hall of Famers name. Program checks for both.'''\n",
    "        player_hof = str(player) + '*'\n",
    "\n",
    "        is_player = (stats['Player'] == player) | (stats['Player'] == player_hof) # With OR without an asterisk\n",
    "        \n",
    "        selected_player = stats[is_player]\n",
    "    \n",
    "        stat_result = selected_player[stat].values[0] # Only returns the VALUE of the statistic\n",
    "        return stat_result\n",
    "    \n",
    "    except IndexError as Error:\n",
    "        # Returns a nicer statement if there is an Index Error\n",
    "        stmt = (' There is a problem with your provided input. \\n \\n Some things to look for: \\n     The player was an active NBA player during the season \\n     The players team was in the playoffs that season (if Playoffs is set to True) \\n     The players name is spelled correctly \\n     The proper statistic abbreviation is being used.')\n",
    "        return stmt"
   ]
  },
  {
   "cell_type": "markdown",
   "metadata": {},
   "source": [
    "## Program Demonstration\n",
    "\n",
    "#### Position = 'Pos' | Age = 'Age' | Team = 'Tm' | Games = 'G' | Games Started = 'GS' | Minutes = 'MP' | Field Goals = 'FG' | Field Goal Attempts = 'FGA' | Field Goal Percentage = 'FG%' | 3PT Percentage = '3P%' | Effective FG% = 'eFG%' | Free Throw Percentage = 'FT%' | Offensive Rebounds = 'ORB' | Defensive Rebounds = 'DRB' | Total Rebounds = 'TRB' | Assists = 'AST' | Steals = 'STL' | Blocks = 'BLK' | Turnovers = 'TOV' | Fouls = 'PF' | Points per Game = 'PTS'"
   ]
  },
  {
   "cell_type": "markdown",
   "metadata": {},
   "source": [
    "### Player StatSearch"
   ]
  },
  {
   "cell_type": "code",
   "execution_count": 14,
   "metadata": {
    "scrolled": true
   },
   "outputs": [
    {
     "name": "stdout",
     "output_type": "stream",
     "text": [
      ".342\n"
     ]
    }
   ],
   "source": [
    "Player = 'Kyle Lowry'\n",
    "Season = 2017\n",
    "Statistic = '3P%'\n",
    "Playoff = True\n",
    "\n",
    "print(player_stat_finder(Player, Season, Statistic, Playoff))"
   ]
  },
  {
   "cell_type": "markdown",
   "metadata": {},
   "source": [
    "## Player Stat Lines\n",
    "\n",
    "#### One example of how our StatSearch function can be used."
   ]
  },
  {
   "cell_type": "code",
   "execution_count": 32,
   "metadata": {},
   "outputs": [],
   "source": [
    "def player_stat_line(player, season, playoffs):\n",
    "    stats = ['PTS', 'AST', 'TRB']\n",
    "    \n",
    "    stat_line = []\n",
    "    for i in stats:\n",
    "        stat_line.append(player_stat_finder(player, season, i, playoffs))\n",
    "        \n",
    "    return stat_line"
   ]
  },
  {
   "cell_type": "code",
   "execution_count": 50,
   "metadata": {},
   "outputs": [
    {
     "name": "stdout",
     "output_type": "stream",
     "text": [
      "['19.6', '2.2', '11.4']\n"
     ]
    }
   ],
   "source": [
    "Player = 'Shawn Kemp'\n",
    "Season = 1996\n",
    "Playoff = False\n",
    "\n",
    "print(player_stat_line(Player, Season, Playoff))"
   ]
  },
  {
   "cell_type": "code",
   "execution_count": null,
   "metadata": {},
   "outputs": [],
   "source": []
  }
 ],
 "metadata": {
  "kernelspec": {
   "display_name": "Python 3",
   "language": "python",
   "name": "python3"
  },
  "language_info": {
   "codemirror_mode": {
    "name": "ipython",
    "version": 3
   },
   "file_extension": ".py",
   "mimetype": "text/x-python",
   "name": "python",
   "nbconvert_exporter": "python",
   "pygments_lexer": "ipython3",
   "version": "3.7.1"
  }
 },
 "nbformat": 4,
 "nbformat_minor": 2
}
